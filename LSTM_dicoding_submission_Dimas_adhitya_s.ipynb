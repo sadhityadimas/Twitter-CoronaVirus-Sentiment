{
 "cells": [
  {
   "cell_type": "markdown",
   "metadata": {
    "id": "TRra0ueqCZN-"
   },
   "source": [
    "# Dicoding Text Classification with LSTM Submission"
   ]
  },
  {
   "cell_type": "markdown",
   "metadata": {
    "id": "tl0g77k3CZEJ"
   },
   "source": [
    "## Coronavirus tweets NLP - Text Classification\n",
    "## source : Kaggle\n",
    "## link to dataset : https://www.kaggle.com/datatattle/covid-19-nlp-text-classification\n",
    "\n",
    "### Dataset contains train and test set\n",
    "### But the test set only has 3680 samples and Dicoding requires 20% valid set\n",
    "### Hence i dont not use the test set\n",
    "### I create a new validation set from train set (contains 40.000+ samples)\n",
    "### So my validation set will contain 8.000 samples"
   ]
  },
  {
   "cell_type": "code",
   "execution_count": 1,
   "metadata": {
    "colab": {
     "base_uri": "https://localhost:8080/"
    },
    "id": "uLvJvYTECW8X",
    "outputId": "34ed8421-fd5e-4eeb-ad4d-f9d7d497cffc"
   },
   "outputs": [
    {
     "name": "stdout",
     "output_type": "stream",
     "text": [
      "Requirement already satisfied: tweet-preprocessor in /usr/local/lib/python3.7/dist-packages (0.6.0)\n",
      "Requirement already satisfied: nltk in /usr/local/lib/python3.7/dist-packages (3.2.5)\n",
      "Requirement already satisfied: six in /usr/local/lib/python3.7/dist-packages (from nltk) (1.15.0)\n"
     ]
    }
   ],
   "source": [
    "#install tweet-prepocessing library first for faster tweet cleaning\n",
    "!pip install tweet-preprocessor\n",
    "\n",
    "#install NLTK for string processing\n",
    "!pip install nltk"
   ]
  },
  {
   "cell_type": "code",
   "execution_count": 2,
   "metadata": {
    "colab": {
     "base_uri": "https://localhost:8080/"
    },
    "id": "ok5S2IKkCYXQ",
    "outputId": "c762d2bd-612a-4b24-eb91-aff4c777ef83"
   },
   "outputs": [
    {
     "name": "stdout",
     "output_type": "stream",
     "text": [
      "[nltk_data] Downloading package stopwords to /root/nltk_data...\n",
      "[nltk_data]   Package stopwords is already up-to-date!\n"
     ]
    }
   ],
   "source": [
    "import pandas as pd\n",
    "import numpy as np\n",
    "from sklearn.model_selection import train_test_split\n",
    "from sklearn.preprocessing import OneHotEncoder\n",
    "import matplotlib.pyplot as plt\n",
    "from tensorflow.keras.preprocessing.text import Tokenizer\n",
    "from tensorflow.keras.preprocessing.sequence import pad_sequences\n",
    "import tensorflow as tf\n",
    "from tensorflow import keras\n",
    "from tensorflow.keras import layers\n",
    "from tensorflow.keras.callbacks import EarlyStopping\n",
    "import re\n",
    "import string\n",
    "import preprocessor as p\n",
    "import nltk\n",
    "nltk.download(\"stopwords\")\n",
    "from nltk.corpus import stopwords"
   ]
  },
  {
   "cell_type": "code",
   "execution_count": 3,
   "metadata": {
    "id": "Uij9ksGLCYVO"
   },
   "outputs": [],
   "source": [
    "#Load the dataset\n",
    "\n",
    "#An error occured when i first loaded the data, UnicodeDecodeError\n",
    "#turns out the csv isn't in utf-8 but latin-1\n",
    "#added encoding latin-1 argument \n",
    "corona = pd.read_csv('/content/Corona_NLP_train.csv', encoding=\"Latin-1\")"
   ]
  },
  {
   "cell_type": "code",
   "execution_count": 4,
   "metadata": {
    "colab": {
     "base_uri": "https://localhost:8080/"
    },
    "id": "wJWT7GHKCYRg",
    "outputId": "ffd7b3f2-25d6-4507-c4b6-bcd980130b53"
   },
   "outputs": [
    {
     "name": "stdout",
     "output_type": "stream",
     "text": [
      "   UserName  ...           Sentiment\n",
      "0      3799  ...             Neutral\n",
      "1      3800  ...            Positive\n",
      "2      3801  ...            Positive\n",
      "3      3802  ...            Positive\n",
      "4      3803  ...  Extremely Negative\n",
      "\n",
      "[5 rows x 6 columns]\n"
     ]
    }
   ],
   "source": [
    "#examine\n",
    "print(corona.head())"
   ]
  },
  {
   "cell_type": "markdown",
   "metadata": {
    "id": "hGJ_RyqwD6qR"
   },
   "source": [
    "### Data Wrangling\n",
    "\n",
    "    Steps:\n",
    "    1. Take 1 feature and 1 target (original tweet and sentiment)\n",
    "    2. Check for datashape\n",
    "    3. Split feature and label (target) into separate variable \n",
    "    4. Check for train set target (label) cardinality if its less or equal 5, use One Hot encoding,\n",
    "        otherwise, use Label Encoding\n",
    "    5. Reduce cardinality of target from 5 to 3\n",
    "    6. Clean The original Tweet features\n",
    "        SInce this is tweets from people, there will be a lot of useless character\n",
    "        such as # (hashtag), @ (twitter username), \n",
    "        http (sometimes people put url adress to another site or another tweet), \n",
    "        remove non charachter such as /n (new line)\n",
    "        remove punctuation\n",
    "    "
   ]
  },
  {
   "cell_type": "code",
   "execution_count": 5,
   "metadata": {
    "id": "jC1NrhcQCYNL"
   },
   "outputs": [],
   "source": [
    "#lets take two important columns to use\n",
    "#and create new dataframe replacing the original df \n",
    "#Original Tweet and Sentiment\n",
    "\n",
    "corona = corona[['OriginalTweet', 'Sentiment']]"
   ]
  },
  {
   "cell_type": "code",
   "execution_count": 6,
   "metadata": {
    "colab": {
     "base_uri": "https://localhost:8080/"
    },
    "id": "wx8qJ_QjDuGX",
    "outputId": "d3b2fe27-8da6-4f67-b71e-35670ae9ce81"
   },
   "outputs": [
    {
     "name": "stdout",
     "output_type": "stream",
     "text": [
      "Train dataset shape: (41157, 2)\n"
     ]
    }
   ],
   "source": [
    "#check for shape\n",
    "print(f'Train dataset shape: {corona.shape}')"
   ]
  },
  {
   "cell_type": "code",
   "execution_count": 7,
   "metadata": {
    "colab": {
     "base_uri": "https://localhost:8080/"
    },
    "id": "iB1Gu0C7DuBu",
    "outputId": "900b67e6-7315-4881-cc7b-f5a4c99e1962"
   },
   "outputs": [
    {
     "name": "stdout",
     "output_type": "stream",
     "text": [
      "The Sentiment Cardinality is 5\n",
      "\n",
      "['Neutral', 'Positive', 'Extremely Negative', 'Negative', 'Extremely Positive']\n"
     ]
    }
   ],
   "source": [
    "#Check our Target (sentiment) cardinality\n",
    "sentiment = list(corona['Sentiment'].unique())\n",
    "print(f'The Sentiment Cardinality is {str(len(sentiment))}\\n')\n",
    "print(sentiment[:20])"
   ]
  },
  {
   "cell_type": "code",
   "execution_count": 8,
   "metadata": {
    "colab": {
     "base_uri": "https://localhost:8080/"
    },
    "id": "eIV_RvG1Dt8d",
    "outputId": "69e314f6-1b54-4fd2-caf7-4d469c1f3e70"
   },
   "outputs": [
    {
     "name": "stdout",
     "output_type": "stream",
     "text": [
      "                                       OriginalTweet Sentiment\n",
      "0  @MeNyrbie @Phil_Gahan @Chrisitv https://t.co/i...   Neutral\n",
      "1  advice Talk to your neighbours family to excha...  Positive\n",
      "2  Coronavirus Australia: Woolworths to give elde...  Positive\n",
      "3  My food stock is not the only one which is emp...  Positive\n",
      "4  Me, ready to go at supermarket during the #COV...  Negative\n"
     ]
    }
   ],
   "source": [
    "#Cardinality Reduction\n",
    "#cardinality of target is 5, \n",
    "#i want to reduce it to 3 by merging extreme sentiments with its reguler counterparts\n",
    "#e.g extremely negative becomes negative and extremely positive becomes positive\n",
    "\n",
    "corona['Sentiment'] = corona['Sentiment'].apply(lambda x: 'Positive' if x == 'Extremely Positive' else x)\n",
    "corona['Sentiment'] = corona['Sentiment'].apply(lambda x: 'Negative' if x == 'Extremely Negative' else x)\n",
    "print(corona.head())"
   ]
  },
  {
   "cell_type": "code",
   "execution_count": 9,
   "metadata": {
    "colab": {
     "base_uri": "https://localhost:8080/"
    },
    "id": "5ka0dT7aDt6r",
    "outputId": "65b1007a-06a8-4f7e-fb83-567887874ad4"
   },
   "outputs": [
    {
     "name": "stdout",
     "output_type": "stream",
     "text": [
      "The Sentiment Cardinality is 3\n",
      "\n",
      "['Neutral', 'Positive', 'Negative']\n",
      "\n",
      " Train dataset shape: (41157, 2)\n"
     ]
    }
   ],
   "source": [
    "#Check our Target (Genre) cardinality again\n",
    "sentiment = list(corona['Sentiment'].unique())\n",
    "print(f'The Sentiment Cardinality is {str(len(sentiment))}\\n')\n",
    "print(sentiment[:20])\n",
    "print(f'\\n Train dataset shape: {corona.shape}')"
   ]
  },
  {
   "cell_type": "code",
   "execution_count": 10,
   "metadata": {
    "id": "wSA7exEvDt2w"
   },
   "outputs": [],
   "source": [
    "#Cardinality is 3, OHE will be used\n",
    "#using pandas get_dummies instead of sklearn OHE because it's faster\n",
    "\n",
    "sentiment = pd.get_dummies(corona['Sentiment'])\n",
    "corona = pd.concat([corona, sentiment], axis=1)\n",
    "corona = corona.drop(columns='Sentiment', axis=1)"
   ]
  },
  {
   "cell_type": "code",
   "execution_count": 11,
   "metadata": {
    "colab": {
     "base_uri": "https://localhost:8080/"
    },
    "id": "cusG4XDQDtzj",
    "outputId": "54f6adbf-6ded-4664-9eb1-59bbc7184be5"
   },
   "outputs": [
    {
     "name": "stdout",
     "output_type": "stream",
     "text": [
      "                                       OriginalTweet  ...  Positive\n",
      "0  @MeNyrbie @Phil_Gahan @Chrisitv https://t.co/i...  ...         0\n",
      "1  advice Talk to your neighbours family to excha...  ...         1\n",
      "2  Coronavirus Australia: Woolworths to give elde...  ...         1\n",
      "3  My food stock is not the only one which is emp...  ...         1\n",
      "4  Me, ready to go at supermarket during the #COV...  ...         0\n",
      "\n",
      "[5 rows x 4 columns]\n"
     ]
    }
   ],
   "source": [
    "#rearrange target column for easier comprehension\n",
    "corona= corona[['OriginalTweet', 'Negative', 'Neutral', 'Positive']]\n",
    "print(corona.head() )\n"
   ]
  },
  {
   "cell_type": "markdown",
   "metadata": {
    "id": "lgEsucDZEyKQ"
   },
   "source": [
    "## Cleaning Original Tweet\n",
    "    steps:\n",
    "    1. make functions for cleaning tweets for reproducibility purpose. function body:\n",
    "        1.clear any tweets related tags such as #, @, http, etc using twitter-prepocessing library\n",
    "        2. remove any punctuation\n",
    "        3. remove any string digits\n",
    "        4. remove any stop words using NLTK library\n",
    "        5. remove any trailing white space\n",
    "        6. remove any empty rows in tweet column as a result of above operations, if any\n",
    "        \n",
    "    2. Call the function to clean the datase"
   ]
  },
  {
   "cell_type": "code",
   "execution_count": 12,
   "metadata": {
    "id": "cvcDwcxlDtuV"
   },
   "outputs": [],
   "source": [
    "#Since i have to clean both original tweets from dataset\n",
    "#i will create a tweet cleaning function for reproducibility\n",
    "\n",
    "def tweet_cleaner(df, tweet_column):\n",
    "    df[tweet_column] = df[tweet_column].apply(lambda x: re.sub(r'(\\W)\\1{2,}', r'\\1', x)) \n",
    "    df[tweet_column] = df[tweet_column].apply(lambda x: re.sub(r'(\\w)\\1{2,}', r'\\1\\1', x)) \n",
    "    #remove any tweet related tags, such as hashtag, mention, http, etc\n",
    "    df[tweet_column]  = df[tweet_column].apply(lambda x : p.clean(x)) \n",
    "\n",
    "    #remove any punctuation\n",
    "    punctuation = str.maketrans('','',string.punctuation)\n",
    "    df[tweet_column] = df.apply(lambda x : x[tweet_column].translate(punctuation), axis = 1) \n",
    "\n",
    "    #remove any number, so we only take string\n",
    "    number = str.maketrans('','',string.digits)\n",
    "    df[tweet_column] = df.apply(lambda x : x[tweet_column].translate(number), axis = 1) \n",
    "\n",
    "    #remove stopwords\n",
    "    stop_words = set(stopwords.words('english'))\n",
    "    #split and make every tweets into list of words\n",
    "    df[tweet_column] = df[tweet_column].apply(lambda x : x.split())\n",
    "    #now remove stopwords and join them back as string\n",
    "    df[tweet_column] = df[tweet_column].apply(\n",
    "        lambda x : ' '.join(i.lower() for i in x if not i.lower() in stop_words))\n",
    "\n",
    "    #remove any extra trailing white space with strip\n",
    "    df[tweet_column] = df[tweet_column].apply(lambda x : x.strip())\n",
    "    \n",
    "    #remove any empty rows as a result of previous cleaning operations\n",
    "    df[tweet_column] = df[tweet_column].replace('', np.nan) #fill empty string rows with np.nan\n",
    "    df = df.dropna(subset=[tweet_column]) #remove them\n",
    "    \n",
    "    return df"
   ]
  },
  {
   "cell_type": "code",
   "execution_count": 13,
   "metadata": {
    "id": "FDyyk7xEDtpL"
   },
   "outputs": [],
   "source": [
    "#call the function\n",
    "corona = tweet_cleaner(corona, 'OriginalTweet')"
   ]
  },
  {
   "cell_type": "code",
   "execution_count": 14,
   "metadata": {
    "colab": {
     "base_uri": "https://localhost:8080/"
    },
    "id": "E7VVKdtgDtlM",
    "outputId": "89aaf8d0-0337-4ac7-c644-faf6375015ab"
   },
   "outputs": [
    {
     "name": "stdout",
     "output_type": "stream",
     "text": [
      "                                       OriginalTweet  ...  Positive\n",
      "1  advice talk neighbours family exchange phone n...  ...         1\n",
      "2  coronavirus australia woolworths give elderly ...  ...         1\n",
      "3  food stock one emptyplease dont panic enough f...  ...         1\n",
      "4  ready go supermarket outbreaknot im paranoid f...  ...         0\n",
      "5  news regions first confirmed covid case came s...  ...         1\n",
      "\n",
      "[5 rows x 4 columns]\n"
     ]
    }
   ],
   "source": [
    "#examine\n",
    "print(corona.head())\n",
    "#success cleaning the tweets"
   ]
  },
  {
   "cell_type": "markdown",
   "metadata": {
    "id": "Duhfb71GFUxn"
   },
   "source": [
    "## Model Building"
   ]
  },
  {
   "cell_type": "code",
   "execution_count": 15,
   "metadata": {
    "id": "7GpFTVQCDtfl"
   },
   "outputs": [],
   "source": [
    "#Split the tweet and its label\n",
    "\n",
    "features = corona['OriginalTweet'].values\n",
    "target = corona[['Negative', 'Neutral', 'Positive']].values"
   ]
  },
  {
   "cell_type": "code",
   "execution_count": 16,
   "metadata": {
    "id": "dgcKR6D3E9bY"
   },
   "outputs": [],
   "source": [
    "#perform train and valid set split, 80-20 (Dicoding requirements)\n",
    "x_train, x_valid, y_train, y_valid = train_test_split(features, target, test_size=0.2, random_state=42)"
   ]
  },
  {
   "cell_type": "code",
   "execution_count": 17,
   "metadata": {
    "id": "KAylhBK_E-AF"
   },
   "outputs": [],
   "source": [
    "#Tokenizer\n",
    " \n",
    "tokenizer = Tokenizer(num_words=25000, oov_token='OOV')\n",
    "tokenizer.fit_on_texts(x_train) \n",
    "tokenizer.fit_on_texts(x_valid)\n",
    " \n",
    "train_sequence= tokenizer.texts_to_sequences(x_train)\n",
    "test_sequence = tokenizer.texts_to_sequences(x_valid)\n",
    "\n",
    "\n",
    "train_padded= pad_sequences(train_sequence) \n",
    "test_padded = pad_sequences(test_sequence)\n"
   ]
  },
  {
   "cell_type": "code",
   "execution_count": 18,
   "metadata": {
    "id": "8XaV9Ry6E99P"
   },
   "outputs": [],
   "source": [
    "#LSTM Model\n",
    "model = keras.Sequential([\n",
    "    layers.Embedding(input_dim=25000, output_dim=32),\n",
    "    layers.LSTM(256),\n",
    "    layers.Dense(256, activation='relu'),\n",
    "    layers.Dense(128, activation='relu'),\n",
    "    layers.Dense(3, activation='softmax')\n",
    "])"
   ]
  },
  {
   "cell_type": "code",
   "execution_count": 19,
   "metadata": {
    "id": "PtGFXSLnF14-"
   },
   "outputs": [],
   "source": [
    "model.compile(loss='categorical_crossentropy',\n",
    "              optimizer='adam',\n",
    "              metrics=['accuracy'])"
   ]
  },
  {
   "cell_type": "code",
   "execution_count": 20,
   "metadata": {
    "id": "snaNc_YqF12o"
   },
   "outputs": [],
   "source": [
    "# Add early stop to prevent overfitting\n",
    "minimum_change = 0.01 #minimum change to be considered an improvement\n",
    "epoch_stop = 5 #number of epoch to wait before stopping\n",
    "early_stop = EarlyStopping(\n",
    "    min_delta = minimum_change, \n",
    "    patience= epoch_stop, \n",
    "    restore_best_weights=True,\n",
    ")"
   ]
  },
  {
   "cell_type": "code",
   "execution_count": 21,
   "metadata": {
    "colab": {
     "base_uri": "https://localhost:8080/"
    },
    "id": "5VLgTe0eF10O",
    "outputId": "55f40765-0733-4c60-95e3-471c1dc5bd8b"
   },
   "outputs": [
    {
     "name": "stdout",
     "output_type": "stream",
     "text": [
      "Epoch 1/30\n",
      "20/20 - 57s - loss: 1.0333 - accuracy: 0.4300 - val_loss: 0.9922 - val_accuracy: 0.4400\n",
      "Epoch 2/30\n",
      "20/20 - 55s - loss: 0.9535 - accuracy: 0.4834 - val_loss: 0.9171 - val_accuracy: 0.5740\n",
      "Epoch 3/30\n",
      "20/20 - 54s - loss: 0.7620 - accuracy: 0.6650 - val_loss: 0.7246 - val_accuracy: 0.7060\n",
      "Epoch 4/30\n",
      "20/20 - 55s - loss: 0.4526 - accuracy: 0.8325 - val_loss: 0.5863 - val_accuracy: 0.7762\n",
      "Epoch 5/30\n",
      "20/20 - 54s - loss: 0.2715 - accuracy: 0.9126 - val_loss: 0.5748 - val_accuracy: 0.8059\n",
      "Epoch 6/30\n",
      "20/20 - 55s - loss: 0.1841 - accuracy: 0.9468 - val_loss: 0.6039 - val_accuracy: 0.8104\n",
      "Epoch 7/30\n",
      "20/20 - 55s - loss: 0.1439 - accuracy: 0.9599 - val_loss: 0.6682 - val_accuracy: 0.8050\n",
      "Epoch 8/30\n",
      "20/20 - 55s - loss: 0.1095 - accuracy: 0.9715 - val_loss: 0.7375 - val_accuracy: 0.8040\n",
      "Epoch 9/30\n",
      "20/20 - 55s - loss: 0.0897 - accuracy: 0.9772 - val_loss: 0.8165 - val_accuracy: 0.7989\n",
      "Epoch 10/30\n",
      "20/20 - 56s - loss: 0.0768 - accuracy: 0.9806 - val_loss: 0.9101 - val_accuracy: 0.7910\n"
     ]
    }
   ],
   "source": [
    "num_epochs = 30\n",
    "steps_per_epoch = 20\n",
    "history = model.fit(train_padded, \n",
    "                    y_train, \n",
    "                    epochs=num_epochs,\n",
    "                    steps_per_epoch = steps_per_epoch,\n",
    "                    validation_data=(test_padded, y_valid), \n",
    "                    validation_steps=10,\n",
    "                    callbacks=[early_stop],\n",
    "                    verbose=2)"
   ]
  },
  {
   "cell_type": "code",
   "execution_count": 22,
   "metadata": {
    "colab": {
     "base_uri": "https://localhost:8080/",
     "height": 265
    },
    "id": "sOnc2TjMF1xk",
    "outputId": "a6d1dd67-944f-4f30-9d5d-330a2df28f3f"
   },
   "outputs": [
    {
     "data": {
      "image/png": "[encoded data removed]",
      "text/plain": [
       "<Figure size 432x288 with 1 Axes>"
      ]
     },
     "metadata": {
      "needs_background": "light",
      "tags": []
     },
     "output_type": "display_data"
    }
   ],
   "source": [
    "#loss \n",
    "history_df = pd.DataFrame(history.history)\n",
    "history_df.loc[1:, ['loss', 'val_loss']].plot()\n",
    "plt.show()"
   ]
  },
  {
   "cell_type": "code",
   "execution_count": 23,
   "metadata": {
    "colab": {
     "base_uri": "https://localhost:8080/",
     "height": 267
    },
    "id": "7XtLWHURF1vH",
    "outputId": "224ba63f-a7f8-4d48-c54e-68a019c8e1d6"
   },
   "outputs": [
    {
     "data": {
      "image/png": "[encoded data removed]",
      "text/plain": [
       "<Figure size 432x288 with 1 Axes>"
      ]
     },
     "metadata": {
      "needs_background": "light",
      "tags": []
     },
     "output_type": "display_data"
    }
   ],
   "source": [
    "#accuracy \n",
    "history_df.loc[1:, ['accuracy', 'val_accuracy']].plot()\n",
    "plt.show()"
   ]
  },
  {
   "cell_type": "code",
   "execution_count": 24,
   "metadata": {
    "colab": {
     "base_uri": "https://localhost:8080/"
    },
    "id": "G21yToW-GJzs",
    "outputId": "47b16359-5927-494d-893f-a8e72bb26522"
   },
   "outputs": [
    {
     "name": "stdout",
     "output_type": "stream",
     "text": [
      "Best Validation Loss: 0.57\n",
      "Best Validation Accuracy: 0.81\n"
     ]
    }
   ],
   "source": [
    "#Best validation loss and accuracy score\n",
    "print((\"Best Validation Loss: {:0.2f}\" +\"\\nBest Validation Accuracy: {:0.2f}\").format(history_df['val_loss'].min(), history_df['val_accuracy'].max()))"
   ]
  },
  {
   "cell_type": "code",
   "execution_count": 24,
   "metadata": {
    "id": "Vh_RKG8QIiGl"
   },
   "outputs": [],
   "source": []
  }
 ],
 "metadata": {
  "colab": {
   "collapsed_sections": [],
   "name": "LSTM_dicoding_submission_Dimas_adhitya_s.ipynb",
   "provenance": []
  },
  "kernelspec": {
   "display_name": "Python 3",
   "language": "python",
   "name": "python3"
  },
  "language_info": {
   "codemirror_mode": {
    "name": "ipython",
    "version": 3
   },
   "file_extension": ".py",
   "mimetype": "text/x-python",
   "name": "python",
   "nbconvert_exporter": "python",
   "pygments_lexer": "ipython3",
   "version": "3.8.10"
  }
 },
 "nbformat": 4,
 "nbformat_minor": 1
}
